{
 "cells": [
  {
   "cell_type": "markdown",
   "id": "a38218aa",
   "metadata": {},
   "source": [
    "# Instalaciones necesarias"
   ]
  },
  {
   "cell_type": "code",
   "execution_count": null,
   "id": "0bcf3f4d",
   "metadata": {
    "vscode": {
     "languageId": "plaintext"
    }
   },
   "outputs": [],
   "source": [
    "!pip3 install pandas numpy seaborn kaggle matplotlib sqlalchemy"
   ]
  }
 ],
 "metadata": {
  "language_info": {
   "name": "python"
  }
 },
 "nbformat": 4,
 "nbformat_minor": 5
}
